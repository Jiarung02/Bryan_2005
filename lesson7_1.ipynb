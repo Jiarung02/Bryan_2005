{
 "cells": [
  {
   "cell_type": "code",
   "execution_count": 1,
   "metadata": {},
   "outputs": [
    {
     "name": "stdout",
     "output_type": "stream",
     "text": [
      "quack\n"
     ]
    }
   ],
   "source": [
    "#沒有參數,沒有傳出值的function\n",
    "def make_a_sound():\n",
    "    print(\"quack\")\n",
    "\n",
    "make_a_sound()\n"
   ]
  },
  {
   "cell_type": "code",
   "execution_count": 3,
   "metadata": {},
   "outputs": [
    {
     "name": "stdout",
     "output_type": "stream",
     "text": [
      "9 + 8 = 17\n",
      "9 * 8 = 72\n"
     ]
    }
   ],
   "source": [
    "def add(first,second):\n",
    "    print(f\"{first} + {second} = {first+second}\")\n",
    "\n",
    "def multiple(first,second):\n",
    "    print(f\"{first} * {second} = {first*second}\")\n",
    "\n",
    "#引數值呼叫\n",
    "add(9, 8)\n",
    "multiple(9, 8)"
   ]
  },
  {
   "cell_type": "code",
   "execution_count": 5,
   "metadata": {},
   "outputs": [
    {
     "name": "stdout",
     "output_type": "stream",
     "text": [
      "3 + 8 = 11\n",
      "3 * 8 = 24\n"
     ]
    }
   ],
   "source": [
    "#引數名稱的呼叫,可以不依順序\n",
    "add(first=3,second=8)\n",
    "multiple(second=8, first=3)#使用引數名稱呼叫,後面就不可以引數值呼叫"
   ]
  },
  {
   "cell_type": "code",
   "execution_count": 6,
   "metadata": {},
   "outputs": [
    {
     "name": "stdout",
     "output_type": "stream",
     "text": [
      "3 + 8 = 11\n",
      "3 * 8 = 24\n"
     ]
    }
   ],
   "source": [
    "#混合呼叫,前面用引數值呼叫,後面用引數名稱呼叫\n",
    "add(3,second=8)\n",
    "multiple(3,second=8)\n"
   ]
  },
  {
   "cell_type": "code",
   "execution_count": 7,
   "metadata": {},
   "outputs": [],
   "source": [
    "#參數的沒有default值\n",
    "def scores(chinese, english, math):\n",
    "    print(f\"國文:{chinese},英文:{english},數學:{math}\")\n"
   ]
  },
  {
   "cell_type": "code",
   "execution_count": 8,
   "metadata": {},
   "outputs": [
    {
     "name": "stdout",
     "output_type": "stream",
     "text": [
      "國文:78,英文:89,數學:92\n",
      "國文:89,英文:92,數學:73\n"
     ]
    }
   ],
   "source": [
    "scores(78,89,math=92)\n",
    "scores(89, 92, 73)"
   ]
  },
  {
   "cell_type": "code",
   "execution_count": 9,
   "metadata": {},
   "outputs": [
    {
     "name": "stdout",
     "output_type": "stream",
     "text": [
      "國文:89,英文:60,數學:60\n",
      "國文:90,英文:60,數學:89\n",
      "國文:75,英文:95,數學:45\n"
     ]
    }
   ],
   "source": [
    "#參數有default,一定要放在最後\n",
    "def scores1(chinese, english=60, math=60):\n",
    "    print(f\"國文:{chinese},英文:{english},數學:{math}\")\n",
    "\n",
    "scores1(89)\n",
    "scores1(90,math=89)\n",
    "scores1(75,math=45,english=95)"
   ]
  },
  {
   "cell_type": "code",
   "execution_count": 10,
   "metadata": {},
   "outputs": [
    {
     "name": "stdout",
     "output_type": "stream",
     "text": [
      "1到400的質數是:\n",
      "2 3 5 7 11 13 17 19 23 29 31 37 41 43 47 53 59 61 67 71 73 79 83 89 97 101 103 107 109 113 127 131 137 139 149 151 157 163 167 173 179 181 191 193 197 199 211 223 227 229 233 239 241 251 257 263 269 271 277 281 283 293 307 311 313 317 331 337 347 349 353 359 367 373 379 383 389 397 "
     ]
    }
   ],
   "source": [
    "def print_prime():\n",
    "    end = int(input(\"請輸入end值:\"))\n",
    "    print(f\"1到{end}的質數是:\")\n",
    "    for num in range(2,end+1):\n",
    "        is_prime = True\n",
    "        for i in range(2,num):\n",
    "            if num % i == 0:\n",
    "                is_prime = False\n",
    "\n",
    "        if is_prime:\n",
    "            print(f\"{num}\",end=\" \")\n",
    "\n",
    "print_prime()"
   ]
  },
  {
   "cell_type": "code",
   "execution_count": 11,
   "metadata": {},
   "outputs": [
    {
     "name": "stdout",
     "output_type": "stream",
     "text": [
      "89到90的質數是:\n",
      "89 "
     ]
    }
   ],
   "source": [
    "def print_prime(first,end): \n",
    "    if first < 2:\n",
    "        first = 2\n",
    "\n",
    "    print(f\"{first}到{end}的質數是:\")\n",
    "    for num in range(first,end+1):\n",
    "        is_prime = True\n",
    "        for i in range(2,num):\n",
    "            if num % i == 0:\n",
    "                is_prime = False\n",
    "\n",
    "        if is_prime:\n",
    "            print(f\"{num}\",end=\" \")\n",
    "\n",
    "f = int(input(\"請輸入first值:\"))\n",
    "e = int(input(\"請輸入end值:\"))\n",
    "print_prime(f,e)"
   ]
  },
  {
   "cell_type": "code",
   "execution_count": 12,
   "metadata": {},
   "outputs": [
    {
     "name": "stdout",
     "output_type": "stream",
     "text": [
      "400\n"
     ]
    }
   ],
   "source": [
    "#傳出值的function\n",
    "\n",
    "def add(first, second):\n",
    "    return first + second\n",
    "    print(\"function 結束\")#有return下一行就沒有用了\n",
    "\n",
    "total = add(150, 250)\n",
    "print(total)"
   ]
  },
  {
   "cell_type": "code",
   "execution_count": 3,
   "metadata": {},
   "outputs": [
    {
     "data": {
      "text/plain": [
       "23"
      ]
     },
     "execution_count": 3,
     "metadata": {},
     "output_type": "execute_result"
    }
   ],
   "source": [
    "#python3.7版就有支援\n",
    "#參數和傳出值,型別的提醒\n",
    "#這只是提醒,可有可無\n",
    "def add1(first, second) -> int:\n",
    "    return first + second\n",
    "total1 = add1(8,15)\n",
    "total1"
   ]
  },
  {
   "cell_type": "code",
   "execution_count": 14,
   "metadata": {},
   "outputs": [
    {
     "data": {
      "text/plain": [
       "134.9"
      ]
     },
     "execution_count": 14,
     "metadata": {},
     "output_type": "execute_result"
    }
   ],
   "source": [
    "def add2(first:int|float, second:int|float) -> int|float:\n",
    "    return first + second\n",
    "\n",
    "total2 = add2(56,78.9)\n",
    "total2"
   ]
  }
 ],
 "metadata": {
  "kernelspec": {
   "display_name": "Python 3",
   "language": "python",
   "name": "python3"
  },
  "language_info": {
   "codemirror_mode": {
    "name": "ipython",
    "version": 3
   },
   "file_extension": ".py",
   "mimetype": "text/x-python",
   "name": "python",
   "nbconvert_exporter": "python",
   "pygments_lexer": "ipython3",
   "version": "3.10.14"
  },
  "orig_nbformat": 4
 },
 "nbformat": 4,
 "nbformat_minor": 2
}
