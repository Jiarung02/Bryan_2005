{
 "cells": [
  {
   "cell_type": "code",
   "execution_count": 2,
   "metadata": {},
   "outputs": [
    {
     "data": {
      "text/plain": [
       "0     方筠紹\n",
       "1     蔡世馨\n",
       "2     黃佩芬\n",
       "3     周家銘\n",
       "4     林建勳\n",
       "5     陳向愛\n",
       "6     陳得映\n",
       "7     劉佳佩\n",
       "8     朱惠儀\n",
       "9     錢佩豪\n",
       "10    陳奇瑄\n",
       "11    郭致恬\n",
       "12    吳明妮\n",
       "13    王德城\n",
       "14    黃志福\n",
       "15    陳向愛\n",
       "16    李淑芳\n",
       "17    陳冠竹\n",
       "18    簡國瑋\n",
       "19    郭淑真\n",
       "20    黃淑芬\n",
       "21    黃政甫\n",
       "22    蔡至剛\n",
       "23    黃詩妃\n",
       "24    黃佩玲\n",
       "25    李政成\n",
       "26    王坤安\n",
       "27    黃旻林\n",
       "28    羅佩樺\n",
       "29    翁羽威\n",
       "30    聶心怡\n",
       "31    蔡孟泉\n",
       "32    張牧聿\n",
       "33    元延辛\n",
       "34    陳樂紫\n",
       "35    方筠紹\n",
       "36    黃政甫\n",
       "37    王德城\n",
       "38    陳文賢\n",
       "39    龔姵君\n",
       "40    林怡偉\n",
       "41    陳怡珊\n",
       "42    蔡明平\n",
       "43    王士銘\n",
       "44    方雅慧\n",
       "45    鄭琇亞\n",
       "46    許芳如\n",
       "47    鞠冠宇\n",
       "48    方筠紹\n",
       "49    黃名明\n",
       "Name: 姓名, dtype: object"
      ]
     },
     "execution_count": 2,
     "metadata": {},
     "output_type": "execute_result"
    }
   ],
   "source": [
    "import pandas as pd\n",
    "df = pd.read_csv('學生成績.csv')\n",
    "#dataFrame的subscript\n",
    "name_s = df[\"姓名\"]\n",
    "name_s"
   ]
  },
  {
   "cell_type": "code",
   "execution_count": 3,
   "metadata": {},
   "outputs": [
    {
     "data": {
      "text/plain": [
       "0     方筠紹\n",
       "1     蔡世馨\n",
       "2     黃佩芬\n",
       "3     周家銘\n",
       "4     林建勳\n",
       "5     陳向愛\n",
       "6     陳得映\n",
       "7     劉佳佩\n",
       "8     朱惠儀\n",
       "9     錢佩豪\n",
       "10    陳奇瑄\n",
       "11    郭致恬\n",
       "12    吳明妮\n",
       "13    王德城\n",
       "14    黃志福\n",
       "15    陳向愛\n",
       "16    李淑芳\n",
       "17    陳冠竹\n",
       "18    簡國瑋\n",
       "19    郭淑真\n",
       "20    黃淑芬\n",
       "21    黃政甫\n",
       "22    蔡至剛\n",
       "23    黃詩妃\n",
       "24    黃佩玲\n",
       "25    李政成\n",
       "26    王坤安\n",
       "27    黃旻林\n",
       "28    羅佩樺\n",
       "29    翁羽威\n",
       "30    聶心怡\n",
       "31    蔡孟泉\n",
       "32    張牧聿\n",
       "33    元延辛\n",
       "34    陳樂紫\n",
       "35    方筠紹\n",
       "36    黃政甫\n",
       "37    王德城\n",
       "38    陳文賢\n",
       "39    龔姵君\n",
       "40    林怡偉\n",
       "41    陳怡珊\n",
       "42    蔡明平\n",
       "43    王士銘\n",
       "44    方雅慧\n",
       "45    鄭琇亞\n",
       "46    許芳如\n",
       "47    鞠冠宇\n",
       "48    方筠紹\n",
       "49    黃名明\n",
       "Name: 姓名, dtype: object"
      ]
     },
     "metadata": {},
     "output_type": "display_data"
    },
    {
     "data": {
      "text/plain": [
       "'方筠紹'"
      ]
     },
     "metadata": {},
     "output_type": "display_data"
    },
    {
     "name": "stdout",
     "output_type": "stream",
     "text": [
      "===========\n"
     ]
    },
    {
     "data": {
      "text/plain": [
       "0    方筠紹\n",
       "1    蔡世馨\n",
       "2    黃佩芬\n",
       "Name: 姓名, dtype: object"
      ]
     },
     "metadata": {},
     "output_type": "display_data"
    },
    {
     "name": "stdout",
     "output_type": "stream",
     "text": [
      "===========\n"
     ]
    },
    {
     "data": {
      "text/plain": [
       "47    鞠冠宇\n",
       "48    方筠紹\n",
       "49    黃名明\n",
       "Name: 姓名, dtype: object"
      ]
     },
     "metadata": {},
     "output_type": "display_data"
    },
    {
     "name": "stdout",
     "output_type": "stream",
     "text": [
      "===========\n"
     ]
    },
    {
     "data": {
      "text/plain": [
       "0    方筠紹\n",
       "5    陳向愛\n",
       "8    朱惠儀\n",
       "Name: 姓名, dtype: object"
      ]
     },
     "metadata": {},
     "output_type": "display_data"
    }
   ],
   "source": [
    "#Series的subscript\n",
    "display(name_s)\n",
    "display(name_s[0])\n",
    "print(\"===========\")\n",
    "display(name_s[:3])\n",
    "print(\"===========\")\n",
    "display(name_s[-3:])\n",
    "print(\"===========\")\n",
    "display(name_s[[0, 5, 8]])"
   ]
  }
 ],
 "metadata": {
  "kernelspec": {
   "display_name": "Python 3",
   "language": "python",
   "name": "python3"
  },
  "language_info": {
   "codemirror_mode": {
    "name": "ipython",
    "version": 3
   },
   "file_extension": ".py",
   "mimetype": "text/x-python",
   "name": "python",
   "nbconvert_exporter": "python",
   "pygments_lexer": "ipython3",
   "version": "3.10.12"
  },
  "orig_nbformat": 4
 },
 "nbformat": 4,
 "nbformat_minor": 2
}
