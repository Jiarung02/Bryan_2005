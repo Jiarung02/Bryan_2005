{
 "cells": [
  {
   "cell_type": "code",
   "execution_count": 1,
   "metadata": {},
   "outputs": [
    {
     "data": {
      "text/plain": [
       "([79, 92, 68, 75, 65], [78, 95, 68, 72, 65], [72, 91, 69, 71, 62])"
      ]
     },
     "execution_count": 1,
     "metadata": {},
     "output_type": "execute_result"
    }
   ],
   "source": [
    "#2維list\n",
    "students = [[79, 92, 68, 75, 65],\n",
    "            [78, 95, 68, 72, 65],\n",
    "            [72, 91, 69, 71, 62]]\n",
    "students[0] , students[1], students[2]"
   ]
  },
  {
   "cell_type": "code",
   "execution_count": 2,
   "metadata": {},
   "outputs": [
    {
     "name": "stdout",
     "output_type": "stream",
     "text": [
      "[79, 92, 68, 75, 65]\n",
      "[78, 95, 68, 72, 65]\n",
      "[72, 91, 69, 71, 62]\n"
     ]
    }
   ],
   "source": [
    "for student in students:\n",
    "    print(student)\n"
   ]
  },
  {
   "cell_type": "code",
   "execution_count": 3,
   "metadata": {},
   "outputs": [
    {
     "data": {
      "text/plain": [
       "[[82, 55, 93, 59, 93],\n",
       " [75, 54, 84, 84, 88],\n",
       " [79, 79, 57, 67, 89],\n",
       " [64, 51, 71, 89, 62],\n",
       " [59, 69, 99, 79, 87],\n",
       " [50, 62, 71, 73, 79],\n",
       " [61, 81, 54, 95, 70],\n",
       " [84, 65, 50, 65, 70],\n",
       " [63, 87, 95, 82, 53],\n",
       " [100, 58, 78, 53, 95],\n",
       " [99, 73, 85, 86, 54],\n",
       " [72, 86, 50, 56, 65],\n",
       " [95, 91, 57, 94, 61],\n",
       " [70, 55, 85, 69, 66],\n",
       " [79, 88, 50, 95, 75],\n",
       " [97, 63, 63, 56, 58],\n",
       " [64, 100, 51, 86, 65],\n",
       " [69, 94, 77, 95, 93],\n",
       " [62, 51, 93, 69, 64],\n",
       " [66, 96, 63, 83, 84],\n",
       " [86, 50, 67, 98, 69],\n",
       " [89, 75, 59, 70, 86],\n",
       " [79, 85, 92, 58, 59],\n",
       " [65, 82, 82, 66, 56],\n",
       " [54, 70, 54, 76, 71],\n",
       " [65, 90, 81, 88, 50],\n",
       " [76, 76, 100, 56, 68],\n",
       " [98, 80, 63, 94, 57],\n",
       " [85, 54, 100, 51, 55],\n",
       " [70, 51, 99, 56, 71],\n",
       " [56, 82, 79, 72, 51],\n",
       " [63, 70, 61, 52, 76],\n",
       " [76, 86, 68, 82, 66],\n",
       " [89, 78, 80, 85, 93],\n",
       " [94, 81, 84, 62, 71],\n",
       " [72, 98, 77, 57, 92],\n",
       " [65, 69, 77, 54, 80],\n",
       " [53, 98, 77, 62, 75],\n",
       " [70, 80, 79, 86, 66],\n",
       " [85, 96, 82, 54, 82],\n",
       " [54, 70, 57, 83, 70],\n",
       " [55, 91, 78, 77, 78],\n",
       " [63, 98, 93, 87, 89],\n",
       " [92, 68, 72, 91, 92],\n",
       " [66, 96, 60, 77, 50],\n",
       " [67, 85, 97, 69, 55],\n",
       " [82, 98, 94, 64, 80],\n",
       " [52, 92, 58, 62, 99],\n",
       " [64, 70, 77, 53, 76],\n",
       " [77, 58, 86, 65, 85]]"
      ]
     },
     "execution_count": 3,
     "metadata": {},
     "output_type": "execute_result"
    }
   ],
   "source": [
    "import random\n",
    "def get_score() -> list:\n",
    "    score = []\n",
    "    for i in range(5):\n",
    "        score.append(random.randint(50, 100))\n",
    "    return score\n",
    "\n",
    "students = []\n",
    "for i in range(50):\n",
    "    scores = get_score()\n",
    "    students.append(scores)\n",
    "students"
   ]
  }
 ],
 "metadata": {
  "kernelspec": {
   "display_name": "Python 3",
   "language": "python",
   "name": "python3"
  },
  "language_info": {
   "codemirror_mode": {
    "name": "ipython",
    "version": 3
   },
   "file_extension": ".py",
   "mimetype": "text/x-python",
   "name": "python",
   "nbconvert_exporter": "python",
   "pygments_lexer": "ipython3",
   "version": "3.10.12"
  },
  "orig_nbformat": 4
 },
 "nbformat": 4,
 "nbformat_minor": 2
}
