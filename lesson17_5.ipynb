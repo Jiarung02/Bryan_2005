{
 "cells": [
  {
   "cell_type": "code",
   "execution_count": 1,
   "metadata": {},
   "outputs": [
    {
     "data": {
      "text/plain": [
       "0     67\n",
       "1     68\n",
       "2     79\n",
       "3     71\n",
       "4     69\n",
       "5     74\n",
       "6     73\n",
       "7     73\n",
       "8     64\n",
       "9     68\n",
       "10    76\n",
       "11    86\n",
       "12    92\n",
       "13    65\n",
       "14    73\n",
       "15    71\n",
       "16    94\n",
       "17    86\n",
       "18    51\n",
       "19    72\n",
       "20    71\n",
       "21    75\n",
       "22    98\n",
       "23    81\n",
       "24    59\n",
       "25    62\n",
       "26    65\n",
       "27    77\n",
       "28    98\n",
       "29    94\n",
       "30    89\n",
       "31    67\n",
       "32    79\n",
       "33    85\n",
       "34    73\n",
       "35    51\n",
       "36    69\n",
       "37    96\n",
       "38    53\n",
       "39    98\n",
       "40    63\n",
       "41    71\n",
       "42    73\n",
       "43    60\n",
       "44    53\n",
       "45    87\n",
       "46    73\n",
       "47    83\n",
       "48    66\n",
       "49    69\n",
       "Name: 國文, dtype: int64"
      ]
     },
     "execution_count": 1,
     "metadata": {},
     "output_type": "execute_result"
    }
   ],
   "source": [
    "import pandas as pd\n",
    "df = pd.read_csv('學生成績.csv')\n",
    "\n",
    "#使用subscript搜尋Series value\n",
    "chinese_s = df[\"國文\"]\n",
    "chinese_s\n"
   ]
  },
  {
   "cell_type": "code",
   "execution_count": 2,
   "metadata": {},
   "outputs": [
    {
     "data": {
      "text/plain": [
       "0     67\n",
       "1     68\n",
       "2     79\n",
       "3     71\n",
       "4     69\n",
       "5     74\n",
       "6     73\n",
       "7     73\n",
       "8     64\n",
       "9     68\n",
       "10    76\n",
       "11    86\n",
       "12    92\n",
       "13    65\n",
       "14    73\n",
       "15    71\n",
       "16    94\n",
       "17    86\n",
       "19    72\n",
       "20    71\n",
       "21    75\n",
       "22    98\n",
       "23    81\n",
       "25    62\n",
       "26    65\n",
       "27    77\n",
       "28    98\n",
       "29    94\n",
       "30    89\n",
       "31    67\n",
       "32    79\n",
       "33    85\n",
       "34    73\n",
       "36    69\n",
       "37    96\n",
       "39    98\n",
       "40    63\n",
       "41    71\n",
       "42    73\n",
       "43    60\n",
       "45    87\n",
       "46    73\n",
       "47    83\n",
       "48    66\n",
       "49    69\n",
       "Name: 國文, dtype: int64"
      ]
     },
     "execution_count": 2,
     "metadata": {},
     "output_type": "execute_result"
    }
   ],
   "source": [
    "#國文及格的\n",
    "chinese_s[chinese_s >= 60]"
   ]
  },
  {
   "cell_type": "code",
   "execution_count": 4,
   "metadata": {},
   "outputs": [
    {
     "data": {
      "text/plain": [
       "14    57\n",
       "19    58\n",
       "21    50\n",
       "28    56\n",
       "29    55\n",
       "35    52\n",
       "40    54\n",
       "Name: 數學, dtype: int64"
      ]
     },
     "execution_count": 4,
     "metadata": {},
     "output_type": "execute_result"
    }
   ],
   "source": [
    "#數學不及格的\n",
    "math_s = df[\"數學\"]\n",
    "math_s[math_s < 60]"
   ]
  }
 ],
 "metadata": {
  "kernelspec": {
   "display_name": "Python 3",
   "language": "python",
   "name": "python3"
  },
  "language_info": {
   "codemirror_mode": {
    "name": "ipython",
    "version": 3
   },
   "file_extension": ".py",
   "mimetype": "text/x-python",
   "name": "python",
   "nbconvert_exporter": "python",
   "pygments_lexer": "ipython3",
   "version": "3.10.12"
  },
  "orig_nbformat": 4
 },
 "nbformat": 4,
 "nbformat_minor": 2
}
