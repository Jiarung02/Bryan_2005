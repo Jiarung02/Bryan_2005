{
 "cells": [
  {
   "cell_type": "code",
   "execution_count": 13,
   "metadata": {},
   "outputs": [],
   "source": [
    "class Student:\n",
    "    def __init__(self,name:str,chinese:int,english:int,math:int):#self可省略\n",
    "        #實體的attribute\n",
    "        self.name = name\n",
    "        self.chinese = chinese\n",
    "        self.english = english\n",
    "        self.math = math \n",
    "\n",
    "    #實體方法method\n",
    "    def total(self)->int:\n",
    "        return self.chinese + self.english + self.math\n",
    "    \n",
    "    #建立property->類似method,沒有參數,一定傳出一個值\n",
    "    #property也是屬性,非method,呼叫時不需要括號\n",
    "    @property\n",
    "    def average(self)->float:\n",
    "        return self.total() / 3.0\n",
    "    \n",
    "    def __repr__(self):\n",
    "        return f'我是student實體,我的name:{self.name},數學成績是{self.math}'\n",
    "    "
   ]
  },
  {
   "cell_type": "code",
   "execution_count": 16,
   "metadata": {},
   "outputs": [
    {
     "data": {
      "text/plain": [
       "('徐國堂', 75, 93, 82)"
      ]
     },
     "metadata": {},
     "output_type": "display_data"
    },
    {
     "data": {
      "text/plain": [
       "(250, 83.33333333333333)"
      ]
     },
     "metadata": {},
     "output_type": "display_data"
    },
    {
     "name": "stdout",
     "output_type": "stream",
     "text": [
      "我是student實體,我的name:徐國堂,數學成績是82\n"
     ]
    }
   ],
   "source": [
    "stu1 = Student(\"徐國堂\",75, 93, 82)\n",
    "display((stu1.name, stu1.chinese, stu1.english, stu1.math))#多加括號讓參數變tuple\n",
    "display((stu1.total(), stu1.average))#實體方法要有括號\n",
    "print(stu1)"
   ]
  },
  {
   "cell_type": "code",
   "execution_count": 9,
   "metadata": {},
   "outputs": [
    {
     "data": {
      "text/plain": [
       "('張xx', 89, 92, 72)"
      ]
     },
     "metadata": {},
     "output_type": "display_data"
    },
    {
     "data": {
      "text/plain": [
       "253"
      ]
     },
     "execution_count": 9,
     "metadata": {},
     "output_type": "execute_result"
    }
   ],
   "source": [
    "stu2 = Student(name=\"張xx\",chinese=89, english=92, math=72)\n",
    "display((stu2.name, stu2.chinese, stu2.english, stu2.math))\n",
    "stu2.total()\n"
   ]
  },
  {
   "cell_type": "code",
   "execution_count": 3,
   "metadata": {},
   "outputs": [],
   "source": [
    "stu1 = Student()\n",
    "stu1.name = \"徐國堂\"\n",
    "stu1.chinese = 89\n",
    "stu1.english = 92\n",
    "stu1.math = 72"
   ]
  },
  {
   "cell_type": "code",
   "execution_count": 2,
   "metadata": {},
   "outputs": [],
   "source": [
    "stu2 = Student()\n",
    "stu2.name = \"張xx\"\n",
    "stu2.chinese = 86\n",
    "stu2.english = 65\n",
    "stu2.math = 91"
   ]
  }
 ],
 "metadata": {
  "kernelspec": {
   "display_name": "Python 3",
   "language": "python",
   "name": "python3"
  },
  "language_info": {
   "codemirror_mode": {
    "name": "ipython",
    "version": 3
   },
   "file_extension": ".py",
   "mimetype": "text/x-python",
   "name": "python",
   "nbconvert_exporter": "python",
   "pygments_lexer": "ipython3",
   "version": "3.10.12"
  },
  "orig_nbformat": 4
 },
 "nbformat": 4,
 "nbformat_minor": 2
}
